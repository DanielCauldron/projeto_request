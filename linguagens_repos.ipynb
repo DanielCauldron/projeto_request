{
 "cells": [
  {
   "cell_type": "code",
   "execution_count": 17,
   "id": "885bfd39",
   "metadata": {},
   "outputs": [],
   "source": [
    "# importação de bibliotecas\n",
    "import pandas as pd\n",
    "import requests \n",
    "import json\n",
    "from datetime import datetime\n",
    "from IPython.display import display\n",
    "import matplotlib.pyplot as plt\n",
    "import seaborn as sns\n"
   ]
  },
  {
   "cell_type": "code",
   "execution_count": 18,
   "id": "dde6a145",
   "metadata": {},
   "outputs": [],
   "source": [
    "url = ('https://api.github.com/users/DanielCauldron')# URL da API do GitHub"
   ]
  },
  {
   "cell_type": "code",
   "execution_count": 19,
   "id": "4358a54b",
   "metadata": {},
   "outputs": [],
   "source": [
    "response = requests.get(url)# Faz a requisição para a API\n"
   ]
  },
  {
   "cell_type": "code",
   "execution_count": 20,
   "id": "d2998648",
   "metadata": {},
   "outputs": [],
   "source": [
    "if response.status_code == 200:# Verifica se a requisição foi bem-sucedida\n",
    "    data = response.json()\n",
    "    "
   ]
  },
  {
   "cell_type": "code",
   "execution_count": 21,
   "id": "fcdbad1c",
   "metadata": {},
   "outputs": [],
   "source": [
    "nome = data.get(\"name\")\n",
    "nome_usuario = data.get(\"login\")\n",
    "repositorios_publicos = data.get(\"public_repos\")\n",
    "data_criacao = data.get(\"created_at\")\n",
    "data_formatada = datetime.strptime(data_criacao, \"%Y-%m-%dT%H:%M:%SZ\")\n",
    "data_formatada = data_formatada.strftime(\"%d/%m/%Y às %H:%M\")"
   ]
  },
  {
   "cell_type": "code",
   "execution_count": 22,
   "id": "7e863ce8",
   "metadata": {},
   "outputs": [
    {
     "name": "stdout",
     "output_type": "stream",
     "text": [
      "Nome Daniel Caldeirão\n",
      "nome de usuario DanielCauldron\n",
      "Repositórios públicos: 22\n",
      "Data da criação da conta: 20/07/2022 às 19:13\n"
     ]
    }
   ],
   "source": [
    "print(\"Nome\", nome)\n",
    "print(\"nome de usuario\", nome_usuario)\n",
    "print(\"Repositórios públicos:\", repositorios_publicos)\n",
    "print(\"Data da criação da conta:\", data_formatada)\n"
   ]
  },
  {
   "cell_type": "markdown",
   "id": "491f87c4",
   "metadata": {},
   "source": [
    "                            verificar repositorios"
   ]
  },
  {
   "cell_type": "code",
   "execution_count": 23,
   "id": "f5358cf5",
   "metadata": {},
   "outputs": [],
   "source": [
    "url_repos = ('https://api.github.com/users/DanielCauldron/repos')#"
   ]
  },
  {
   "cell_type": "code",
   "execution_count": 24,
   "id": "aff390f9",
   "metadata": {},
   "outputs": [],
   "source": [
    "response = requests.get(url_repos)# Faz a requisição para a API de repositórios"
   ]
  },
  {
   "cell_type": "code",
   "execution_count": 25,
   "id": "b9e7cbba",
   "metadata": {},
   "outputs": [],
   "source": [
    "if response.status_code == 200:# Verifica se a requisição foi bem-sucedida\n",
    "    repos_data = response.json()"
   ]
  },
  {
   "cell_type": "code",
   "execution_count": 29,
   "id": "4a244753",
   "metadata": {},
   "outputs": [
    {
     "data": {
      "text/html": [
       "<div>\n",
       "<style scoped>\n",
       "    .dataframe tbody tr th:only-of-type {\n",
       "        vertical-align: middle;\n",
       "    }\n",
       "\n",
       "    .dataframe tbody tr th {\n",
       "        vertical-align: top;\n",
       "    }\n",
       "\n",
       "    .dataframe thead th {\n",
       "        text-align: right;\n",
       "    }\n",
       "</style>\n",
       "<table border=\"1\" class=\"dataframe\">\n",
       "  <thead>\n",
       "    <tr style=\"text-align: right;\">\n",
       "      <th></th>\n",
       "      <th>Nome</th>\n",
       "      <th>Descrição</th>\n",
       "      <th>URL</th>\n",
       "      <th>Linguagem</th>\n",
       "      <th>Data da criação da conta</th>\n",
       "    </tr>\n",
       "  </thead>\n",
       "  <tbody>\n",
       "    <tr>\n",
       "      <th>0</th>\n",
       "      <td>-Sistema-Banc-rio-com-Fun-es-Python</td>\n",
       "      <td>Desafio de projeto de estudo, construindo proj...</td>\n",
       "      <td>https://github.com/DanielCauldron/-Sistema-Ban...</td>\n",
       "      <td>Python</td>\n",
       "      <td>2023-07-06T13:37:18Z</td>\n",
       "    </tr>\n",
       "    <tr>\n",
       "      <th>1</th>\n",
       "      <td>01-Ingestao-de-Dados-Excel-API</td>\n",
       "      <td>None</td>\n",
       "      <td>https://github.com/DanielCauldron/01-Ingestao-...</td>\n",
       "      <td>Python</td>\n",
       "      <td>2025-06-14T04:48:03Z</td>\n",
       "    </tr>\n",
       "    <tr>\n",
       "      <th>2</th>\n",
       "      <td>02-Pipelines-de-Ingestao-</td>\n",
       "      <td>None</td>\n",
       "      <td>https://github.com/DanielCauldron/02-Pipelines...</td>\n",
       "      <td>Python</td>\n",
       "      <td>2025-06-21T20:36:38Z</td>\n",
       "    </tr>\n",
       "    <tr>\n",
       "      <th>3</th>\n",
       "      <td>7DaysOfCode-Python-Pandas</td>\n",
       "      <td>None</td>\n",
       "      <td>https://github.com/DanielCauldron/7DaysOfCode-...</td>\n",
       "      <td>Jupyter Notebook</td>\n",
       "      <td>2025-08-09T02:55:25Z</td>\n",
       "    </tr>\n",
       "    <tr>\n",
       "      <th>4</th>\n",
       "      <td>Analise-de-Dados-com--Python</td>\n",
       "      <td>None</td>\n",
       "      <td>https://github.com/DanielCauldron/Analise-de-D...</td>\n",
       "      <td>Jupyter Notebook</td>\n",
       "      <td>2023-04-13T19:34:20Z</td>\n",
       "    </tr>\n",
       "  </tbody>\n",
       "</table>\n",
       "</div>"
      ],
      "text/plain": [
       "                                  Nome  \\\n",
       "0  -Sistema-Banc-rio-com-Fun-es-Python   \n",
       "1       01-Ingestao-de-Dados-Excel-API   \n",
       "2            02-Pipelines-de-Ingestao-   \n",
       "3            7DaysOfCode-Python-Pandas   \n",
       "4         Analise-de-Dados-com--Python   \n",
       "\n",
       "                                           Descrição  \\\n",
       "0  Desafio de projeto de estudo, construindo proj...   \n",
       "1                                               None   \n",
       "2                                               None   \n",
       "3                                               None   \n",
       "4                                               None   \n",
       "\n",
       "                                                 URL         Linguagem  \\\n",
       "0  https://github.com/DanielCauldron/-Sistema-Ban...            Python   \n",
       "1  https://github.com/DanielCauldron/01-Ingestao-...            Python   \n",
       "2  https://github.com/DanielCauldron/02-Pipelines...            Python   \n",
       "3  https://github.com/DanielCauldron/7DaysOfCode-...  Jupyter Notebook   \n",
       "4  https://github.com/DanielCauldron/Analise-de-D...  Jupyter Notebook   \n",
       "\n",
       "  Data da criação da conta  \n",
       "0     2023-07-06T13:37:18Z  \n",
       "1     2025-06-14T04:48:03Z  \n",
       "2     2025-06-21T20:36:38Z  \n",
       "3     2025-08-09T02:55:25Z  \n",
       "4     2023-04-13T19:34:20Z  "
      ]
     },
     "execution_count": 29,
     "metadata": {},
     "output_type": "execute_result"
    }
   ],
   "source": [
    "\n",
    "repos_list = []\n",
    "for repo in repos_data:\n",
    "    repos_list.append({\n",
    "        \"Nome\": repo.get(\"name\"),\n",
    "        \"Descrição\": repo.get(\"description\"),\n",
    "        \"URL\": repo.get(\"html_url\"),\n",
    "        \"Linguagem\": repo.get(\"language\"),  # Corrigido aqui\n",
    "        \"Data da criação da conta\": repo.get(\"created_at\")\n",
    "    })\n",
    "df = pd.DataFrame(repos_list)  # Fora do loop\n",
    "df.head()  # Exibe o DataFrame no Jupyter\n"
   ]
  },
  {
   "cell_type": "code",
   "execution_count": 27,
   "id": "9238d3cb",
   "metadata": {},
   "outputs": [
    {
     "data": {
      "text/html": [
       "<div>\n",
       "<style scoped>\n",
       "    .dataframe tbody tr th:only-of-type {\n",
       "        vertical-align: middle;\n",
       "    }\n",
       "\n",
       "    .dataframe tbody tr th {\n",
       "        vertical-align: top;\n",
       "    }\n",
       "\n",
       "    .dataframe thead th {\n",
       "        text-align: right;\n",
       "    }\n",
       "</style>\n",
       "<table border=\"1\" class=\"dataframe\">\n",
       "  <thead>\n",
       "    <tr style=\"text-align: right;\">\n",
       "      <th></th>\n",
       "      <th>Nome</th>\n",
       "      <th>Link</th>\n",
       "      <th>Linguagem</th>\n",
       "      <th>Data de Criação</th>\n",
       "    </tr>\n",
       "  </thead>\n",
       "  <tbody>\n",
       "    <tr>\n",
       "      <th>0</th>\n",
       "      <td>-Sistema-Banc-rio-com-Fun-es-Python</td>\n",
       "      <td>https://github.com/DanielCauldron/-Sistema-Ban...</td>\n",
       "      <td>Python</td>\n",
       "      <td>2023-07-06</td>\n",
       "    </tr>\n",
       "    <tr>\n",
       "      <th>1</th>\n",
       "      <td>01-Ingestao-de-Dados-Excel-API</td>\n",
       "      <td>https://github.com/DanielCauldron/01-Ingestao-...</td>\n",
       "      <td>Python</td>\n",
       "      <td>2025-06-14</td>\n",
       "    </tr>\n",
       "    <tr>\n",
       "      <th>2</th>\n",
       "      <td>02-Pipelines-de-Ingestao-</td>\n",
       "      <td>https://github.com/DanielCauldron/02-Pipelines...</td>\n",
       "      <td>Python</td>\n",
       "      <td>2025-06-21</td>\n",
       "    </tr>\n",
       "    <tr>\n",
       "      <th>3</th>\n",
       "      <td>7DaysOfCode-Python-Pandas</td>\n",
       "      <td>https://github.com/DanielCauldron/7DaysOfCode-...</td>\n",
       "      <td>Jupyter Notebook</td>\n",
       "      <td>2025-08-09</td>\n",
       "    </tr>\n",
       "    <tr>\n",
       "      <th>4</th>\n",
       "      <td>Analise-de-Dados-com--Python</td>\n",
       "      <td>https://github.com/DanielCauldron/Analise-de-D...</td>\n",
       "      <td>Jupyter Notebook</td>\n",
       "      <td>2023-04-13</td>\n",
       "    </tr>\n",
       "  </tbody>\n",
       "</table>\n",
       "</div>"
      ],
      "text/plain": [
       "                                  Nome  \\\n",
       "0  -Sistema-Banc-rio-com-Fun-es-Python   \n",
       "1       01-Ingestao-de-Dados-Excel-API   \n",
       "2            02-Pipelines-de-Ingestao-   \n",
       "3            7DaysOfCode-Python-Pandas   \n",
       "4         Analise-de-Dados-com--Python   \n",
       "\n",
       "                                                Link         Linguagem  \\\n",
       "0  https://github.com/DanielCauldron/-Sistema-Ban...            Python   \n",
       "1  https://github.com/DanielCauldron/01-Ingestao-...            Python   \n",
       "2  https://github.com/DanielCauldron/02-Pipelines...            Python   \n",
       "3  https://github.com/DanielCauldron/7DaysOfCode-...  Jupyter Notebook   \n",
       "4  https://github.com/DanielCauldron/Analise-de-D...  Jupyter Notebook   \n",
       "\n",
       "  Data de Criação  \n",
       "0      2023-07-06  \n",
       "1      2025-06-14  \n",
       "2      2025-06-21  \n",
       "3      2025-08-09  \n",
       "4      2023-04-13  "
      ]
     },
     "execution_count": 27,
     "metadata": {},
     "output_type": "execute_result"
    }
   ],
   "source": [
    "\n",
    "import pandas as pd\n",
    "\n",
    "# Criação da lista com os dados relevantes de cada repositório\n",
    "repos_list = [\n",
    "    {\n",
    "        \"Nome\": repo.get(\"name\"),\n",
    "        \"Link\": repo.get(\"html_url\"),\n",
    "        \"Linguagem\": repo.get(\"language\"),\n",
    "        \"Data de Criação\": repo.get(\"created_at\")\n",
    "    }\n",
    "    for repo in repos_data\n",
    "]\n",
    "\n",
    "# Criação do DataFrame a partir da lista\n",
    "df = pd.DataFrame(repos_list)\n",
    "\n",
    "# Conversão da coluna de data para datetime (e remoção da hora)\n",
    "df[\"Data de Criação\"] = pd.to_datetime(df[\"Data de Criação\"]).dt.date\n",
    "\n",
    "# Reorganização opcional das colunas (se desejar uma ordem específica)\n",
    "colunas = [\"Nome\", \"Link\", \"Linguagem\", \"Data de Criação\"]\n",
    "df = df[colunas]\n",
    "\n",
    "# Exibe as 5 primeiras linhas do DataFrame (útil em Jupyter Notebooks)\n",
    "df.head()\n",
    "\n",
    "\n",
    "\n"
   ]
  },
  {
   "cell_type": "code",
   "execution_count": 28,
   "id": "1259afe3",
   "metadata": {},
   "outputs": [
    {
     "name": "stderr",
     "output_type": "stream",
     "text": [
      "C:\\Users\\PC\\AppData\\Local\\Temp\\ipykernel_6660\\2485327187.py:19: UserWarning: Glyph 128200 (\\N{CHART WITH UPWARDS TREND}) missing from font(s) Arial.\n",
      "  plt.tight_layout()\n",
      "C:\\Users\\PC\\AppData\\Roaming\\Python\\Python311\\site-packages\\IPython\\core\\pylabtools.py:170: UserWarning: Glyph 128200 (\\N{CHART WITH UPWARDS TREND}) missing from font(s) Arial.\n",
      "  fig.canvas.print_figure(bytes_io, **kw)\n"
     ]
    },
    {
     "data": {
      "image/png": "[encoded data removed]",
      "text/plain": [
       "<Figure size 1200x600 with 1 Axes>"
      ]
     },
     "metadata": {},
     "output_type": "display_data"
    },
    {
     "name": "stderr",
     "output_type": "stream",
     "text": [
      "C:\\Users\\PC\\AppData\\Local\\Temp\\ipykernel_6660\\2485327187.py:34: UserWarning: Glyph 128187 (\\N{PERSONAL COMPUTER}) missing from font(s) Arial.\n",
      "  plt.tight_layout()\n",
      "C:\\Users\\PC\\AppData\\Roaming\\Python\\Python311\\site-packages\\IPython\\core\\pylabtools.py:170: UserWarning: Glyph 128187 (\\N{PERSONAL COMPUTER}) missing from font(s) Arial.\n",
      "  fig.canvas.print_figure(bytes_io, **kw)\n"
     ]
    },
    {
     "data": {
      "image/png": "[encoded data removed]",
      "text/plain": [
       "<Figure size 1000x500 with 1 Axes>"
      ]
     },
     "metadata": {},
     "output_type": "display_data"
    }
   ],
   "source": [
    "\n",
    "# Configurações visuais do seaborn\n",
    "sns.set(style=\"whitegrid\", palette=\"pastel\")\n",
    "\n",
    "# --- 1. Análise de criação por mês/ano ---\n",
    "\n",
    "# Cria uma coluna \"Ano-Mês\"\n",
    "df[\"Ano-Mês\"] = pd.to_datetime(df[\"Data de Criação\"]).dt.to_period(\"M\").astype(str)\n",
    "\n",
    "# Conta quantos repositórios foram criados por mês\n",
    "criacoes_por_mes = df[\"Ano-Mês\"].value_counts().sort_index()\n",
    "\n",
    "# Gráfico\n",
    "plt.figure(figsize=(12, 6))\n",
    "sns.barplot(x=criacoes_por_mes.index, y=criacoes_por_mes.values)\n",
    "plt.xticks(rotation=45)\n",
    "plt.title(\"📈 Repositórios Criados por Mês\")\n",
    "plt.xlabel(\"Mês/Ano\")\n",
    "plt.ylabel(\"Quantidade de Repositórios\")\n",
    "plt.tight_layout()\n",
    "plt.show()\n",
    "\n",
    "# --- 2. Análise da linguagem mais usada ---\n",
    "\n",
    "# Conta as ocorrências de cada linguagem (ignora valores nulos)\n",
    "linguagens = df[\"Linguagem\"].dropna().value_counts()\n",
    "\n",
    "# Gráfico\n",
    "plt.figure(figsize=(10, 5))\n",
    "sns.barplot(x=linguagens.index, y=linguagens.values)\n",
    "plt.title(\"💻 Linguagens Mais Usadas\")\n",
    "plt.xlabel(\"Linguagem\")\n",
    "plt.ylabel(\"Quantidade de Repositórios\")\n",
    "plt.xticks(rotation=45)\n",
    "plt.tight_layout()\n",
    "plt.show()\n"
   ]
  }
 ],
 "metadata": {
  "kernelspec": {
   "display_name": "Python 3",
   "language": "python",
   "name": "python3"
  },
  "language_info": {
   "codemirror_mode": {
    "name": "ipython",
    "version": 3
   },
   "file_extension": ".py",
   "mimetype": "text/x-python",
   "name": "python",
   "nbconvert_exporter": "python",
   "pygments_lexer": "ipython3",
   "version": "3.11.4"
  }
 },
 "nbformat": 4,
 "nbformat_minor": 5
}
